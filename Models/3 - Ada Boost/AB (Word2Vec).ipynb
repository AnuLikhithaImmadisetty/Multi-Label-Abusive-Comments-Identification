{
 "cells": [
  {
   "cell_type": "code",
   "execution_count": 1,
   "metadata": {},
   "outputs": [],
   "source": [
    "import time  # Timing operations\n",
    "\n",
    "# Import necessary libraries for numerical operations and data processing\n",
    "import numpy as np  # Linear algebra operations, particularly with embeddings\n",
    "import pandas as pd  # Data processing, including reading and manipulating CSV files\n",
    "\n",
    "# Import text processing libraries\n",
    "import re  # Regular expressions for text cleaning\n",
    "import nltk  # Natural Language Toolkit for NLP tasks\n",
    "from nltk.corpus import stopwords  # Stopwords corpus for removing common stopwords\n",
    "from gensim.models import Word2Vec  # Gensim for Word2Vec embeddings\n",
    "\n",
    "# Import classifier\n",
    "from sklearn.neural_network import MLPClassifier  # Neural network-based classification\n",
    "from sklearn.ensemble import AdaBoostClassifier # Import adaboost classifier model"
   ]
  },
  {
   "cell_type": "code",
   "execution_count": 2,
   "metadata": {},
   "outputs": [
    {
     "name": "stdout",
     "output_type": "stream",
     "text": [
      "Comment: Explanation\n",
      "Why the edits made under my username Hardcore Metallica Fan were reverted? They weren't vandalisms, just closure on some GAs after I voted at New York Dolls FAC. And please don't remove the template from the talk page since I'm retired now.89.205.38.27\n",
      "Labels:\n",
      "toxic: 0\n",
      "severe_toxic: 0\n",
      "obscene: 0\n",
      "threat: 0\n",
      "insult: 0\n",
      "identity_hate: 0\n",
      "\n",
      "----------------------------------------\n",
      "Comment: D'aww! He matches this background colour I'm seemingly stuck with. Thanks.  (talk) 21:51, January 11, 2016 (UTC)\n",
      "Labels:\n",
      "toxic: 0\n",
      "severe_toxic: 0\n",
      "obscene: 0\n",
      "threat: 0\n",
      "insult: 0\n",
      "identity_hate: 0\n",
      "\n",
      "----------------------------------------\n",
      "Comment: Hey man, I'm really not trying to edit war. It's just that this guy is constantly removing relevant information and talking to me through edits instead of my talk page. He seems to care more about the formatting than the actual info.\n",
      "Labels:\n",
      "toxic: 0\n",
      "severe_toxic: 0\n",
      "obscene: 0\n",
      "threat: 0\n",
      "insult: 0\n",
      "identity_hate: 0\n",
      "\n",
      "----------------------------------------\n",
      "                 id                                       comment_text  toxic  \\\n",
      "0  0000997932d777bf  Explanation\\nWhy the edits made under my usern...      0   \n",
      "1  000103f0d9cfb60f  D'aww! He matches this background colour I'm s...      0   \n",
      "2  000113f07ec002fd  Hey man, I'm really not trying to edit war. It...      0   \n",
      "\n",
      "   severe_toxic  obscene  threat  insult  identity_hate  \n",
      "0             0        0       0       0              0  \n",
      "1             0        0       0       0              0  \n",
      "2             0        0       0       0              0  \n"
     ]
    }
   ],
   "source": [
    "# Load the training and test datasets\n",
    "import pandas as pd\n",
    "\n",
    "train = pd.read_csv(\"C:\\\\Users\\\\anuli\\\\OneDrive\\\\Desktop\\\\Multi Label Absuive Comments Identification\\\\Datasets\\\\train.csv\")  # Load the training data from CSV file\n",
    "test = pd.read_csv(\"C:\\\\Users\\\\anuli\\\\OneDrive\\\\Desktop\\\\Multi Label Absuive Comments Identification\\\\Datasets\\\\test.csv\")  # Load the test data from CSV file\n",
    "\n",
    "# Copy the 'id' column from the test set for later use in submission\n",
    "result = test[['id']].copy()\n",
    "\n",
    "# Function to format each row for display\n",
    "def format_row(row):\n",
    "    formatted_comment = row['comment_text']\n",
    "    labels = row[['toxic', 'severe_toxic', 'obscene', 'threat', 'insult', 'identity_hate']].to_dict()\n",
    "    formatted_labels = '\\n'.join(f\"{key}: {value}\" for key, value in labels.items())\n",
    "    return f\"Comment: {formatted_comment}\\nLabels:\\n{formatted_labels}\\n\"\n",
    "\n",
    "# Print the formatted rows\n",
    "for index, row in train.head(3).iterrows():\n",
    "    print(format_row(row))\n",
    "    print('-' * 40)  # Separator line for readability\n",
    "\n",
    "# Display the first 3 rows of the training set to get an initial impression of the data\n",
    "print(train.head(3))"
   ]
  },
  {
   "cell_type": "code",
   "execution_count": 3,
   "metadata": {},
   "outputs": [
    {
     "name": "stdout",
     "output_type": "stream",
     "text": [
      "toxic: 15294\n",
      "severe_toxic: 1595\n",
      "obscene: 8449\n",
      "threat: 478\n",
      "insult: 7877\n",
      "identity_hate: 1405\n"
     ]
    }
   ],
   "source": [
    "# Count the number of instances for each severity label where the value is greater than 0\n",
    "print('toxic: %d' % train[train['toxic'] > 0]['toxic'].count())\n",
    "print('severe_toxic: %d' % train[train['severe_toxic'] > 0]['severe_toxic'].count())\n",
    "print('obscene: %d' % train[train['obscene'] > 0]['obscene'].count())\n",
    "print('threat: %d' % train[train['threat'] > 0]['threat'].count())\n",
    "print('insult: %d' % train[train['insult'] > 0]['insult'].count())\n",
    "print('identity_hate: %d' % train[train['identity_hate'] > 0]['identity_hate'].count())"
   ]
  },
  {
   "cell_type": "code",
   "execution_count": 4,
   "metadata": {},
   "outputs": [
    {
     "name": "stdout",
     "output_type": "stream",
     "text": [
      "Severe toxic but NOT toxic?: 0\n",
      "Insult but NOT toxic?: 533\n",
      "Obscene but NOT toxic?: 523\n",
      "Threat but NOT insult?: 171\n"
     ]
    }
   ],
   "source": [
    "# Count the number of instances where 'severe_toxic' is greater than 0 but 'toxic' is 0\n",
    "print('Severe toxic but NOT toxic?: %d' % train[(train['severe_toxic'] > 0) & (train['toxic'] == 0)]['id'].count())\n",
    "\n",
    "# Count the number of instances where 'insult' is greater than 0 but 'toxic' is 0\n",
    "print('Insult but NOT toxic?: %d' % train[(train['insult'] > 0) & (train['toxic'] == 0)]['id'].count())\n",
    "\n",
    "# Count the number of instances where 'obscene' is greater than 0 but 'toxic' is 0\n",
    "print('Obscene but NOT toxic?: %d' % train[(train['obscene'] > 0) & (train['toxic'] == 0)]['id'].count())\n",
    "\n",
    "# Count the number of instances where 'threat' is greater than 0 but 'insult' is 0\n",
    "print('Threat but NOT insult?: %d' % train[(train['threat'] > 0) & (train['insult'] == 0)]['id'].count())"
   ]
  },
  {
   "cell_type": "code",
   "execution_count": 5,
   "metadata": {},
   "outputs": [
    {
     "name": "stdout",
     "output_type": "stream",
     "text": [
      "Average comment length: 394\n",
      "Median comment length: 205\n",
      "90th percentile comment length: 889\n"
     ]
    }
   ],
   "source": [
    "# Add a new column 'len' that contains the length of each comment\n",
    "train['len'] = train['comment_text'].str.len()\n",
    "\n",
    "# Calculate and print the average length of comments\n",
    "print('Average comment length: %d' % train['len'].mean())\n",
    "\n",
    "# Calculate and print the median length of comments\n",
    "print('Median comment length: %d' % train['len'].quantile(0.5))\n",
    "\n",
    "# Calculate and print the 90th percentile length of comments\n",
    "print('90th percentile comment length: %d' % train['len'].quantile(0.9))"
   ]
  },
  {
   "cell_type": "code",
   "execution_count": 6,
   "metadata": {},
   "outputs": [
    {
     "name": "stdout",
     "output_type": "stream",
     "text": [
      "Training set rows with null 'comment_text':\n",
      "Empty DataFrame\n",
      "Columns: [id, comment_text, toxic, severe_toxic, obscene, threat, insult, identity_hate, len]\n",
      "Index: []\n",
      "\n",
      "\n",
      "Test set rows with null 'comment_text':\n",
      "Empty DataFrame\n",
      "Columns: [id, comment_text]\n",
      "Index: []\n"
     ]
    }
   ],
   "source": [
    "# Print rows from the training set where 'comment_text' is null\n",
    "print(\"Training set rows with null 'comment_text':\")\n",
    "print(train[train['comment_text'].isnull()])\n",
    "print(\"\\n\")\n",
    "# Print rows from the test set where 'comment_text' is null\n",
    "print(\"Test set rows with null 'comment_text':\")\n",
    "print(test[test['comment_text'].isnull()])"
   ]
  },
  {
   "cell_type": "code",
   "execution_count": 7,
   "metadata": {},
   "outputs": [],
   "source": [
    "# Fill missing values in the 'comment_text' column of the test dataset with 'none'\n",
    "test['comment_text'].fillna(value='none', inplace=True)\n",
    "\n",
    "# Fill missing values in the 'comment_text' column of the training dataset with 'none'\n",
    "train['comment_text'].fillna(value='none', inplace=True)"
   ]
  },
  {
   "cell_type": "code",
   "execution_count": 8,
   "metadata": {},
   "outputs": [
    {
     "name": "stdout",
     "output_type": "stream",
     "text": [
      "0    [explanation, why, the, edits, made, under, my...\n",
      "1    [d, aww, he, matches, this, background, colour...\n",
      "2    [hey, man, i, m, really, not, trying, to, edit...\n",
      "Name: comment_text, dtype: object\n"
     ]
    }
   ],
   "source": [
    "def text_to_words(raw_text, remove_stopwords=False):\n",
    "    \"\"\"\n",
    "    Convert raw text into a list of words.\n",
    "    \n",
    "    Parameters:\n",
    "    raw_text (str): The raw text to process.\n",
    "    remove_stopwords (bool): Whether to remove common stopwords from the list of words.\n",
    "    \n",
    "    Returns:\n",
    "    list: A list of words from the text.\n",
    "    \"\"\"\n",
    "    # 1. Remove non-letters, but including numbers\n",
    "    letters_only = re.sub(r\"[^0-9a-zA-Z]\", \" \", raw_text)\n",
    "    \n",
    "    # 2. Convert to lower case, split into individual words\n",
    "    words = letters_only.lower().split()\n",
    "    \n",
    "    if remove_stopwords:\n",
    "        # Create a set of stopwords for faster lookup\n",
    "        stops = set(stopwords.words(\"english\"))\n",
    "        # Remove stop words from the list of words\n",
    "        meaningful_words = [w for w in words if w not in stops]\n",
    "        words = meaningful_words\n",
    "    \n",
    "    return words\n",
    "\n",
    "# Apply text_to_words function to 'comment_text' column in training and test datasets\n",
    "sentences_train = train['comment_text'].apply(lambda x: text_to_words(x, remove_stopwords=False))\n",
    "sentences_test = test['comment_text'].apply(lambda x: text_to_words(x, remove_stopwords=False))\n",
    "\n",
    "# Show first three processed arrays as samples\n",
    "print(sentences_train[:3])"
   ]
  },
  {
   "cell_type": "code",
   "execution_count": 9,
   "metadata": {},
   "outputs": [],
   "source": [
    "from gensim.models import Word2Vec\n",
    "from gensim.models import KeyedVectors"
   ]
  },
  {
   "cell_type": "code",
   "execution_count": 10,
   "metadata": {},
   "outputs": [],
   "source": [
    "# Set values for various parameters\n",
    "num_features = 300    # Word vector dimensionality\n",
    "min_word_count = 40   # Minimum word count\n",
    "num_workers = 4       # Number of threads to run in parallel\n",
    "context = 10          # Context window size\n",
    "downsampling = 1e-3   # Downsample setting for frequent words"
   ]
  },
  {
   "cell_type": "code",
   "execution_count": 11,
   "metadata": {},
   "outputs": [],
   "source": [
    "# Define and train the Word2Vec model with specified parameters\n",
    "model = Word2Vec(sentences=sentences_train,\n",
    "                  vector_size=num_features,\n",
    "                  window=context,\n",
    "                  min_count=min_word_count,\n",
    "                  sample=downsampling,\n",
    "                  workers=num_workers)\n",
    "\n",
    "# Save the model's word vectors and discard the full model to save memory\n",
    "word_vectors = model.wv\n",
    "word_vectors.save(\"word_vectors.kv\")\n",
    "\n",
    "# Optionally, load these vectors without the full model\n",
    "word_vectors = KeyedVectors.load(\"word_vectors.kv\", mmap='r')\n",
    "\n",
    "# Now you can use `word_vectors` for querying, which is memory efficient"
   ]
  },
  {
   "cell_type": "code",
   "execution_count": 12,
   "metadata": {},
   "outputs": [],
   "source": [
    "def makeFeatureVec(words, model, num_features):\n",
    "    # Initialize a zero vector to hold the feature values\n",
    "    featureVec = np.zeros((num_features,), dtype=\"float32\")\n",
    "    nwords = 0\n",
    "    # Convert model vocabulary to a set for faster word lookup\n",
    "    index2word_set = set(model.index_to_key)  # Updated to use index_to_key\n",
    "    # Sum vectors for words that are present in the model's vocabulary\n",
    "    for word in words:\n",
    "        if word in index2word_set:\n",
    "            nwords += 1\n",
    "            featureVec = np.add(featureVec, model[word])  # Updated to use model.wv[word]\n",
    "    # Compute the average vector; avoid division by zero\n",
    "    if nwords == 0:\n",
    "        nwords = 1  # Avoid division by zero\n",
    "    featureVec = np.divide(featureVec, nwords)\n",
    "    return featureVec\n",
    "\n",
    "def getAvgFeatureVecs(reviews, model, num_features):\n",
    "    # Initialize a 2D array to store feature vectors for all reviews\n",
    "    reviewFeatureVecs = np.zeros((len(reviews), num_features), dtype=\"float32\")\n",
    "    # Compute the average feature vector for each review\n",
    "    for counter, review in enumerate(reviews):\n",
    "        reviewFeatureVecs[counter] = makeFeatureVec(review, model, num_features)\n",
    "    return reviewFeatureVecs "
   ]
  },
  {
   "cell_type": "code",
   "execution_count": 13,
   "metadata": {},
   "outputs": [],
   "source": [
    "# Load pre-trained word vectors\n",
    "word_vectors = KeyedVectors.load(\"word_vectors.kv\", mmap='r')\n",
    "\n",
    "# Convert training and test sentences to feature vectors\n",
    "f_matrix_train = getAvgFeatureVecs(sentences_train, word_vectors, num_features)\n",
    "f_matrix_test = getAvgFeatureVecs(sentences_test, word_vectors, num_features)\n",
    "\n",
    "# Prepare target labels for training 6 different models\n",
    "y = [train['toxic'], train['severe_toxic'], train['obscene'], train['threat'], train['insult'], train['identity_hate']]"
   ]
  },
  {
   "cell_type": "code",
   "execution_count": 14,
   "metadata": {},
   "outputs": [
    {
     "name": "stdout",
     "output_type": "stream",
     "text": [
      "[MLPClassifier(hidden_layer_sizes=(30, 30, 30), random_state=1), MLPClassifier(hidden_layer_sizes=(30, 30, 30), random_state=1), MLPClassifier(hidden_layer_sizes=(30, 30, 30), random_state=1), MLPClassifier(hidden_layer_sizes=(30, 30, 30), random_state=1), MLPClassifier(hidden_layer_sizes=(30, 30, 30), random_state=1), MLPClassifier(hidden_layer_sizes=(30, 30, 30), random_state=1)]\n"
     ]
    }
   ],
   "source": [
    "# Create a list to store 6 MLP models\n",
    "model = []\n",
    "\n",
    "# Initialize and append 6 MLPClassifier models to the list\n",
    "for i in range(0, 6):\n",
    "    # Create an MLP model with three hidden layers, each with 30 neurons\n",
    "    m = MLPClassifier(solver='adam', hidden_layer_sizes=(30,30,30), random_state=1)\n",
    "    model.append(m)\n",
    "\n",
    "# Print the list of models\n",
    "print(model)"
   ]
  },
  {
   "cell_type": "code",
   "execution_count": 15,
   "metadata": {},
   "outputs": [
    {
     "name": "stdout",
     "output_type": "stream",
     "text": [
      "Pos 10000/159571 duration 2\n",
      "Pos 20000/159571 duration 3\n",
      "Pos 30000/159571 duration 4\n",
      "Pos 40000/159571 duration 6\n",
      "Pos 50000/159571 duration 7\n",
      "Pos 60000/159571 duration 9\n",
      "Pos 70000/159571 duration 10\n",
      "Pos 80000/159571 duration 12\n",
      "Pos 90000/159571 duration 13\n",
      "Pos 100000/159571 duration 14\n",
      "Pos 110000/159571 duration 16\n",
      "Pos 120000/159571 duration 17\n",
      "Pos 130000/159571 duration 19\n",
      "Pos 140000/159571 duration 20\n",
      "Pos 150000/159571 duration 22\n",
      "Pos 159571/159571 duration 23\n"
     ]
    }
   ],
   "source": [
    "batch_size = 10000  # Number of samples to process in each batch\n",
    "total_rows = f_matrix_train.shape[0]  # Total number of training samples\n",
    "duration = 0  # Time elapsed during training\n",
    "start_train = time.time()  # Record the start time of training\n",
    "pos = 0  # Initial position in the dataset\n",
    "classes = [0, 1]  # Binary classes for classification\n",
    "\n",
    "# Perform training using a partial fit approach\n",
    "while duration < 2500 and pos < total_rows:\n",
    "    for i in range(6):\n",
    "        # Adjust batch size if the remaining samples are less than the batch size\n",
    "        if pos + batch_size > total_rows:\n",
    "            batch_size = total_rows - pos\n",
    "        # Select a batch of training data and corresponding labels\n",
    "        X_p = f_matrix_train[pos:pos + batch_size]\n",
    "        y_p = y[i][pos:pos + batch_size]\n",
    "        # Update the model with the current batch\n",
    "        model[i].partial_fit(X_p, y_p, classes)\n",
    "    pos += batch_size  # Move to the next batch\n",
    "    duration = time.time() - start_train  # Update elapsed time\n",
    "    print(\"Pos %d/%d duration %d\" % (pos, total_rows, duration))  # Print progress"
   ]
  },
  {
   "cell_type": "code",
   "execution_count": 16,
   "metadata": {},
   "outputs": [],
   "source": [
    "# Predict probabilities for each class using the trained models\n",
    "result['toxic'] = model[0].predict_proba(f_matrix_test)[:, 1]         # Probability of 'toxic' class\n",
    "result['severe_toxic'] = model[1].predict_proba(f_matrix_test)[:, 1] # Probability of 'severe_toxic' class\n",
    "result['obscene'] = model[2].predict_proba(f_matrix_test)[:, 1]      # Probability of 'obscene' class\n",
    "result['threat'] = model[3].predict_proba(f_matrix_test)[:, 1]       # Probability of 'threat' class\n",
    "result['insult'] = model[4].predict_proba(f_matrix_test)[:, 1]       # Probability of 'insult' class\n",
    "result['identity_hate'] = model[5].predict_proba(f_matrix_test)[:, 1] # Probability of 'identity_hate' class"
   ]
  },
  {
   "cell_type": "code",
   "execution_count": 17,
   "metadata": {},
   "outputs": [],
   "source": [
    "# Save the results to a CSV file\n",
    "result.to_csv('submission.csv', encoding='utf-8', index=False)"
   ]
  },
  {
   "cell_type": "code",
   "execution_count": 18,
   "metadata": {},
   "outputs": [
    {
     "name": "stderr",
     "output_type": "stream",
     "text": [
      "c:\\Users\\anuli\\anaconda3\\Lib\\site-packages\\sklearn\\ensemble\\_base.py:166: FutureWarning: `base_estimator` was renamed to `estimator` in version 1.2 and will be removed in 1.4.\n",
      "  warnings.warn(\n"
     ]
    },
    {
     "name": "stdout",
     "output_type": "stream",
     "text": [
      "Label = toxic\n",
      "              precision    recall  f1-score   support\n",
      "\n",
      "           0       0.95      0.98      0.97     28859\n",
      "           1       0.73      0.53      0.62      3056\n",
      "\n",
      "    accuracy                           0.94     31915\n",
      "   macro avg       0.84      0.76      0.79     31915\n",
      "weighted avg       0.93      0.94      0.93     31915\n",
      "\n",
      "AUC for toxic: 0.7564490416393554\n"
     ]
    },
    {
     "name": "stderr",
     "output_type": "stream",
     "text": [
      "c:\\Users\\anuli\\anaconda3\\Lib\\site-packages\\sklearn\\ensemble\\_base.py:166: FutureWarning: `base_estimator` was renamed to `estimator` in version 1.2 and will be removed in 1.4.\n",
      "  warnings.warn(\n"
     ]
    },
    {
     "name": "stdout",
     "output_type": "stream",
     "text": [
      "Label = severe_toxic\n",
      "              precision    recall  f1-score   support\n",
      "\n",
      "           0       0.99      1.00      0.99     31594\n",
      "           1       0.44      0.26      0.33       321\n",
      "\n",
      "    accuracy                           0.99     31915\n",
      "   macro avg       0.72      0.63      0.66     31915\n",
      "weighted avg       0.99      0.99      0.99     31915\n",
      "\n",
      "AUC for severe_toxic: 0.630689568605735\n"
     ]
    },
    {
     "name": "stderr",
     "output_type": "stream",
     "text": [
      "c:\\Users\\anuli\\anaconda3\\Lib\\site-packages\\sklearn\\ensemble\\_base.py:166: FutureWarning: `base_estimator` was renamed to `estimator` in version 1.2 and will be removed in 1.4.\n",
      "  warnings.warn(\n"
     ]
    },
    {
     "name": "stdout",
     "output_type": "stream",
     "text": [
      "Label = obscene\n",
      "              precision    recall  f1-score   support\n",
      "\n",
      "           0       0.97      0.99      0.98     30200\n",
      "           1       0.73      0.49      0.59      1715\n",
      "\n",
      "    accuracy                           0.96     31915\n",
      "   macro avg       0.85      0.74      0.79     31915\n",
      "weighted avg       0.96      0.96      0.96     31915\n",
      "\n",
      "AUC for obscene: 0.7421475392427548\n"
     ]
    },
    {
     "name": "stderr",
     "output_type": "stream",
     "text": [
      "c:\\Users\\anuli\\anaconda3\\Lib\\site-packages\\sklearn\\ensemble\\_base.py:166: FutureWarning: `base_estimator` was renamed to `estimator` in version 1.2 and will be removed in 1.4.\n",
      "  warnings.warn(\n"
     ]
    },
    {
     "name": "stdout",
     "output_type": "stream",
     "text": [
      "Label = threat\n",
      "              precision    recall  f1-score   support\n",
      "\n",
      "           0       1.00      1.00      1.00     31841\n",
      "           1       0.27      0.15      0.19        74\n",
      "\n",
      "    accuracy                           1.00     31915\n",
      "   macro avg       0.63      0.57      0.59     31915\n",
      "weighted avg       1.00      1.00      1.00     31915\n",
      "\n",
      "AUC for threat: 0.5738532335922494\n"
     ]
    },
    {
     "name": "stderr",
     "output_type": "stream",
     "text": [
      "c:\\Users\\anuli\\anaconda3\\Lib\\site-packages\\sklearn\\ensemble\\_base.py:166: FutureWarning: `base_estimator` was renamed to `estimator` in version 1.2 and will be removed in 1.4.\n",
      "  warnings.warn(\n"
     ]
    },
    {
     "name": "stdout",
     "output_type": "stream",
     "text": [
      "Label = insult\n",
      "              precision    recall  f1-score   support\n",
      "\n",
      "           0       0.97      0.99      0.98     30301\n",
      "           1       0.72      0.50      0.59      1614\n",
      "\n",
      "    accuracy                           0.96     31915\n",
      "   macro avg       0.85      0.75      0.79     31915\n",
      "weighted avg       0.96      0.96      0.96     31915\n",
      "\n",
      "AUC for insult: 0.7454382315362341\n"
     ]
    },
    {
     "name": "stderr",
     "output_type": "stream",
     "text": [
      "c:\\Users\\anuli\\anaconda3\\Lib\\site-packages\\sklearn\\ensemble\\_base.py:166: FutureWarning: `base_estimator` was renamed to `estimator` in version 1.2 and will be removed in 1.4.\n",
      "  warnings.warn(\n"
     ]
    },
    {
     "name": "stdout",
     "output_type": "stream",
     "text": [
      "Label = identity_hate\n",
      "              precision    recall  f1-score   support\n",
      "\n",
      "           0       0.99      1.00      0.99     31621\n",
      "           1       0.35      0.14      0.20       294\n",
      "\n",
      "    accuracy                           0.99     31915\n",
      "   macro avg       0.67      0.57      0.60     31915\n",
      "weighted avg       0.99      0.99      0.99     31915\n",
      "\n",
      "AUC for identity_hate: 0.5685419704075932\n"
     ]
    },
    {
     "name": "stderr",
     "output_type": "stream",
     "text": [
      "c:\\Users\\anuli\\anaconda3\\Lib\\site-packages\\sklearn\\ensemble\\_base.py:166: FutureWarning: `base_estimator` was renamed to `estimator` in version 1.2 and will be removed in 1.4.\n",
      "  warnings.warn(\n"
     ]
    },
    {
     "name": "stdout",
     "output_type": "stream",
     "text": [
      "Label = non_toxic\n",
      "              precision    recall  f1-score   support\n",
      "\n",
      "           0       0.73      0.54      0.62      3244\n",
      "           1       0.95      0.98      0.96     28671\n",
      "\n",
      "    accuracy                           0.93     31915\n",
      "   macro avg       0.84      0.76      0.79     31915\n",
      "weighted avg       0.93      0.93      0.93     31915\n",
      "\n",
      "AUC for non_toxic: 0.76029229795691\n",
      "Average AUC for Toxic: 0.6695199308373203\n",
      "Average AUC for Non-Toxic: 0.76029229795691\n"
     ]
    }
   ],
   "source": [
    "import pandas as pd\n",
    "from sklearn.ensemble import AdaBoostClassifier\n",
    "from sklearn.metrics import roc_auc_score, classification_report\n",
    "from sklearn.model_selection import train_test_split\n",
    "from sklearn.tree import DecisionTreeClassifier\n",
    "\n",
    "# Assuming 'train' is your DataFrame with the data and labels\n",
    "# Balance the dataset if needed (if 'train_balanced' was meant to be balanced)\n",
    "train_balanced = train  # Apply any balancing technique here if required\n",
    "\n",
    "# Define the target labels for classification\n",
    "target_columns = ['toxic', 'severe_toxic', 'obscene', 'threat', 'insult', 'identity_hate']\n",
    "\n",
    "# Create a 'non_toxic' label which is 1 if none of the toxic labels are 1\n",
    "train_balanced['non_toxic'] = 1 - train_balanced[target_columns].max(axis=1)\n",
    "\n",
    "# Assuming 'f_matrix_train' is your feature matrix from Word2Vec embeddings\n",
    "x_train = f_matrix_train  # Your feature matrix\n",
    "\n",
    "# Split the dataset into training and validation sets (80% train, 20% validation)\n",
    "x_train, x_val, y_train, y_val = train_test_split(\n",
    "    x_train, \n",
    "    train_balanced[target_columns + ['non_toxic']], \n",
    "    test_size=0.2, \n",
    "    random_state=42\n",
    ")\n",
    "\n",
    "# Initialize a dictionary to store models\n",
    "models = {}\n",
    "average_auc_toxic = 0  # To accumulate AUC scores for toxic labels\n",
    "average_auc_non_toxic = 0  # To store AUC for the non-toxic label\n",
    "\n",
    "# Train a separate AdaBoost model for each label\n",
    "for label in target_columns + ['non_toxic']:\n",
    "    # Initialize the AdaBoost model with a base DecisionTreeClassifier\n",
    "    models[label] = AdaBoostClassifier(base_estimator=DecisionTreeClassifier(max_depth=1), n_estimators=50)\n",
    "    \n",
    "    # Fit the model on the training data for the current label\n",
    "    models[label].fit(x_train, y_train[label])\n",
    "    \n",
    "    # Make predictions on the validation set\n",
    "    predictions = models[label].predict(x_val)\n",
    "    \n",
    "    # Display the classification report for the current label\n",
    "    print(f'Label = {label}')\n",
    "    print(classification_report(y_val[label], predictions))\n",
    "    \n",
    "    # Calculate the ROC AUC score for the current label\n",
    "    roc_auc = roc_auc_score(y_val[label], predictions)\n",
    "    print(f'AUC for {label}: {roc_auc}')\n",
    "    \n",
    "    # Accumulate AUC for toxic labels and store AUC for non-toxic\n",
    "    if label != 'non_toxic':\n",
    "        average_auc_toxic += roc_auc\n",
    "    else:\n",
    "        average_auc_non_toxic = roc_auc\n",
    "\n",
    "# Calculate the average AUC for toxic labels\n",
    "average_auc_toxic /= len(target_columns)\n",
    "\n",
    "# Print the average AUC for toxic and non-toxic labels\n",
    "print(f'Average AUC for Toxic: {average_auc_toxic}')\n",
    "print(f'Average AUC for Non-Toxic: {average_auc_non_toxic}')"
   ]
  },
  {
   "cell_type": "code",
   "execution_count": 19,
   "metadata": {},
   "outputs": [
    {
     "name": "stderr",
     "output_type": "stream",
     "text": [
      "c:\\Users\\anuli\\anaconda3\\Lib\\site-packages\\sklearn\\ensemble\\_base.py:166: FutureWarning: `base_estimator` was renamed to `estimator` in version 1.2 and will be removed in 1.4.\n",
      "  warnings.warn(\n"
     ]
    },
    {
     "name": "stdout",
     "output_type": "stream",
     "text": [
      "Label = toxic\n",
      "ROC AUC: 0.9305211096776909\n",
      "Precision: 0.7339036470058532\n",
      "Recall: 0.5333769633507853\n",
      "F1 Score: 0.6177752510896343\n",
      "Accuracy: 0.9368008773304088\n",
      "Classification Report:\n",
      "{'0': {'precision': 0.9519768303360948, 'recall': 0.9795211199279255, 'f1-score': 0.9655525762983964, 'support': 28859}, '1': {'precision': 0.7339036470058532, 'recall': 0.5333769633507853, 'f1-score': 0.6177752510896343, 'support': 3056}, 'accuracy': 0.9368008773304088, 'macro avg': {'precision': 0.842940238670974, 'recall': 0.7564490416393554, 'f1-score': 0.7916639136940153, 'support': 31915}, 'weighted avg': {'precision': 0.93109537496222, 'recall': 0.9368008773304088, 'f1-score': 0.9322513854527759, 'support': 31915}}\n",
      "\n"
     ]
    },
    {
     "name": "stderr",
     "output_type": "stream",
     "text": [
      "c:\\Users\\anuli\\anaconda3\\Lib\\site-packages\\sklearn\\ensemble\\_base.py:166: FutureWarning: `base_estimator` was renamed to `estimator` in version 1.2 and will be removed in 1.4.\n",
      "  warnings.warn(\n"
     ]
    },
    {
     "name": "stdout",
     "output_type": "stream",
     "text": [
      "Label = severe_toxic\n",
      "ROC AUC: 0.9691905399443917\n",
      "Precision: 0.44041450777202074\n",
      "Recall: 0.26479750778816197\n",
      "F1 Score: 0.33073929961089493\n",
      "Accuracy: 0.9892213692621025\n",
      "Classification Report:\n",
      "{'0': {'precision': 0.9925603681987264, 'recall': 0.9965816294233082, 'f1-score': 0.9945669341082822, 'support': 31594}, '1': {'precision': 0.44041450777202074, 'recall': 0.26479750778816197, 'f1-score': 0.33073929961089493, 'support': 321}, 'accuracy': 0.9892213692621025, 'macro avg': {'precision': 0.7164874379853736, 'recall': 0.6306895686057351, 'f1-score': 0.6626531168595886, 'support': 31915}, 'weighted avg': {'precision': 0.9870069036461032, 'recall': 0.9892213692621025, 'f1-score': 0.9878901780163611, 'support': 31915}}\n",
      "\n"
     ]
    },
    {
     "name": "stderr",
     "output_type": "stream",
     "text": [
      "c:\\Users\\anuli\\anaconda3\\Lib\\site-packages\\sklearn\\ensemble\\_base.py:166: FutureWarning: `base_estimator` was renamed to `estimator` in version 1.2 and will be removed in 1.4.\n",
      "  warnings.warn(\n"
     ]
    },
    {
     "name": "stdout",
     "output_type": "stream",
     "text": [
      "Label = obscene\n",
      "ROC AUC: 0.9455141814530921\n",
      "Precision: 0.7341991341991342\n",
      "Recall: 0.4944606413994169\n",
      "F1 Score: 0.5909407665505226\n",
      "Accuracy: 0.9632147892840357\n",
      "Classification Report:\n",
      "{'0': {'precision': 0.971814044213264, 'recall': 0.9898344370860928, 'f1-score': 0.9807414698162731, 'support': 30200}, '1': {'precision': 0.7341991341991342, 'recall': 0.4944606413994169, 'f1-score': 0.5909407665505226, 'support': 1715}, 'accuracy': 0.9632147892840357, 'macro avg': {'precision': 0.8530065892061991, 'recall': 0.7421475392427548, 'f1-score': 0.7858411181833979, 'support': 31915}, 'weighted avg': {'precision': 0.9590454535607736, 'recall': 0.9632147892840357, 'f1-score': 0.9597949491801846, 'support': 31915}}\n",
      "\n"
     ]
    },
    {
     "name": "stderr",
     "output_type": "stream",
     "text": [
      "c:\\Users\\anuli\\anaconda3\\Lib\\site-packages\\sklearn\\ensemble\\_base.py:166: FutureWarning: `base_estimator` was renamed to `estimator` in version 1.2 and will be removed in 1.4.\n",
      "  warnings.warn(\n"
     ]
    },
    {
     "name": "stdout",
     "output_type": "stream",
     "text": [
      "Label = threat\n",
      "ROC AUC: 0.9577949388727945\n",
      "Precision: 0.2682926829268293\n",
      "Recall: 0.14864864864864866\n",
      "F1 Score: 0.19130434782608696\n",
      "Accuracy: 0.997086009713301\n",
      "Classification Report:\n",
      "{'0': {'precision': 0.9980234674028989, 'recall': 0.99905781853585, 'f1-score': 0.9985403751079025, 'support': 31841}, '1': {'precision': 0.2682926829268293, 'recall': 0.14864864864864866, 'f1-score': 0.19130434782608696, 'support': 74}, 'accuracy': 0.997086009713301, 'macro avg': {'precision': 0.6331580751648641, 'recall': 0.5738532335922493, 'f1-score': 0.5949223614669947, 'support': 31915}, 'weighted avg': {'precision': 0.9963314705972831, 'recall': 0.997086009713301, 'f1-score': 0.9966686700783285, 'support': 31915}}\n",
      "\n"
     ]
    },
    {
     "name": "stderr",
     "output_type": "stream",
     "text": [
      "c:\\Users\\anuli\\anaconda3\\Lib\\site-packages\\sklearn\\ensemble\\_base.py:166: FutureWarning: `base_estimator` was renamed to `estimator` in version 1.2 and will be removed in 1.4.\n",
      "  warnings.warn(\n"
     ]
    },
    {
     "name": "stdout",
     "output_type": "stream",
     "text": [
      "Label = insult\n",
      "ROC AUC: 0.9507837350381286\n",
      "Precision: 0.7203918076580588\n",
      "Recall: 0.5012391573729864\n",
      "F1 Score: 0.5911582024113995\n",
      "Accuracy: 0.9649381168729437\n",
      "Classification Report:\n",
      "{'0': {'precision': 0.9738568459340088, 'recall': 0.9896373056994818, 'f1-score': 0.9816836626127379, 'support': 30301}, '1': {'precision': 0.7203918076580588, 'recall': 0.5012391573729864, 'f1-score': 0.5911582024113995, 'support': 1614}, 'accuracy': 0.9649381168729437, 'macro avg': {'precision': 0.8471243267960338, 'recall': 0.7454382315362341, 'f1-score': 0.7864209325120687, 'support': 31915}, 'weighted avg': {'precision': 0.9610386547456214, 'recall': 0.9649381168729437, 'f1-score': 0.9619340748713949, 'support': 31915}}\n",
      "\n"
     ]
    },
    {
     "name": "stderr",
     "output_type": "stream",
     "text": [
      "c:\\Users\\anuli\\anaconda3\\Lib\\site-packages\\sklearn\\ensemble\\_base.py:166: FutureWarning: `base_estimator` was renamed to `estimator` in version 1.2 and will be removed in 1.4.\n",
      "  warnings.warn(\n"
     ]
    },
    {
     "name": "stdout",
     "output_type": "stream",
     "text": [
      "Label = identity_hate\n",
      "ROC AUC: 0.9408525119038476\n",
      "Precision: 0.35344827586206895\n",
      "Recall: 0.13945578231292516\n",
      "F1 Score: 0.19999999999999998\n",
      "Accuracy: 0.9897227009243302\n",
      "Classification Report:\n",
      "{'0': {'precision': 0.9920437749614768, 'recall': 0.9976281585022612, 'f1-score': 0.9948281299274677, 'support': 31621}, '1': {'precision': 0.35344827586206895, 'recall': 0.13945578231292516, 'f1-score': 0.19999999999999998, 'support': 294}, 'accuracy': 0.9897227009243302, 'macro avg': {'precision': 0.6727460254117729, 'recall': 0.5685419704075931, 'f1-score': 0.5974140649637338, 'support': 31915}, 'weighted avg': {'precision': 0.9861610528328468, 'recall': 0.9897227009243302, 'f1-score': 0.987506197601017, 'support': 31915}}\n",
      "\n"
     ]
    },
    {
     "name": "stderr",
     "output_type": "stream",
     "text": [
      "c:\\Users\\anuli\\anaconda3\\Lib\\site-packages\\sklearn\\ensemble\\_base.py:166: FutureWarning: `base_estimator` was renamed to `estimator` in version 1.2 and will be removed in 1.4.\n",
      "  warnings.warn(\n"
     ]
    },
    {
     "name": "stdout",
     "output_type": "stream",
     "text": [
      "Label = non_toxic\n",
      "ROC AUC: 0.9266958280171653\n",
      "Precision: 0.9497898020070518\n",
      "Recall: 0.9771197377140665\n",
      "F1 Score: 0.9632609555246101\n",
      "Accuracy: 0.9330408898637005\n",
      "Classification Report:\n",
      "{'0': {'precision': 0.7288135593220338, 'recall': 0.5434648581997534, 'f1-score': 0.622638177644358, 'support': 3244}, '1': {'precision': 0.9497898020070518, 'recall': 0.9771197377140665, 'f1-score': 0.9632609555246101, 'support': 28671}, 'accuracy': 0.9330408898637005, 'macro avg': {'precision': 0.8393016806645428, 'recall': 0.76029229795691, 'f1-score': 0.7929495665844841, 'support': 31915}, 'weighted avg': {'precision': 0.9273286730310155, 'recall': 0.9330408898637005, 'f1-score': 0.9286383551347139, 'support': 31915}}\n",
      "\n",
      "Average AUC for Toxic: 0.949109502814991\n",
      "Average AUC for Non-Toxic: 0.9266958280171653\n"
     ]
    }
   ],
   "source": [
    "import pandas as pd\n",
    "from sklearn.ensemble import AdaBoostClassifier\n",
    "from sklearn.tree import DecisionTreeClassifier\n",
    "from sklearn.metrics import roc_auc_score, classification_report, precision_score, recall_score, f1_score, accuracy_score\n",
    "from sklearn.model_selection import train_test_split\n",
    "\n",
    "# Assuming 'train_balanced' is your DataFrame with the data and labels\n",
    "# If your dataset is already balanced, no further balancing is needed\n",
    "\n",
    "# Define the target labels for classification\n",
    "target_columns = ['toxic', 'severe_toxic', 'obscene', 'threat', 'insult', 'identity_hate']\n",
    "\n",
    "# Create a 'non_toxic' label which is 1 if none of the toxic labels are 1\n",
    "train_balanced['non_toxic'] = 1 - train_balanced[target_columns].max(axis=1)\n",
    "\n",
    "# Assuming 'f_matrix_train' is your feature matrix from Word2Vec embeddings or TF-IDF\n",
    "x_train = f_matrix_train  # Your feature matrix\n",
    "\n",
    "# Split the dataset into training and validation sets (80% train, 20% validation)\n",
    "x_train, x_val, y_train, y_val = train_test_split(\n",
    "    x_train, \n",
    "    train_balanced[target_columns + ['non_toxic']], \n",
    "    test_size=0.2, \n",
    "    random_state=42\n",
    ")\n",
    "\n",
    "# Initialize a dictionary to store models and another to store metrics\n",
    "models = {}\n",
    "metrics_summary = {}\n",
    "\n",
    "average_auc_toxic = 0  # To accumulate AUC scores for toxic labels\n",
    "average_auc_non_toxic = 0  # To store AUC for the non-toxic label\n",
    "\n",
    "# Train a separate AdaBoost model for each label\n",
    "for label in target_columns + ['non_toxic']:\n",
    "    # Initialize the AdaBoost model with a base DecisionTreeClassifier\n",
    "    models[label] = AdaBoostClassifier(base_estimator=DecisionTreeClassifier(max_depth=1), n_estimators=50)\n",
    "    \n",
    "    # Fit the model on the training data for the current label\n",
    "    models[label].fit(x_train, y_train[label])\n",
    "    \n",
    "    # Make predictions on the validation set\n",
    "    predictions = models[label].predict(x_val)\n",
    "    prediction_probs = models[label].predict_proba(x_val)[:, 1]  # Probabilities for AUC\n",
    "    \n",
    "    # Calculate metrics\n",
    "    roc_auc = roc_auc_score(y_val[label], prediction_probs)\n",
    "    precision = precision_score(y_val[label], predictions)\n",
    "    recall = recall_score(y_val[label], predictions)\n",
    "    f1 = f1_score(y_val[label], predictions)\n",
    "    accuracy = accuracy_score(y_val[label], predictions)\n",
    "    report = classification_report(y_val[label], predictions, output_dict=True)\n",
    "    \n",
    "    # Store metrics in the dictionary\n",
    "    metrics_summary[label] = {\n",
    "        'ROC AUC': roc_auc,\n",
    "        'Precision': precision,\n",
    "        'Recall': recall,\n",
    "        'F1 Score': f1,\n",
    "        'Accuracy': accuracy,\n",
    "        'Classification Report': report\n",
    "    }\n",
    "    \n",
    "    # Print metrics for each label\n",
    "    print(f'Label = {label}')\n",
    "    print(f'ROC AUC: {roc_auc}')\n",
    "    print(f'Precision: {precision}')\n",
    "    print(f'Recall: {recall}')\n",
    "    print(f'F1 Score: {f1}')\n",
    "    print(f'Accuracy: {accuracy}')\n",
    "    print(f'Classification Report:\\n{report}\\n')\n",
    "    \n",
    "    # Accumulate AUC for toxic labels and store AUC for non-toxic\n",
    "    if label != 'non_toxic':\n",
    "        average_auc_toxic += roc_auc\n",
    "    else:\n",
    "        average_auc_non_toxic = roc_auc\n",
    "\n",
    "# Calculate the average AUC for toxic labels\n",
    "average_auc_toxic /= len(target_columns)\n",
    "\n",
    "# Print the average AUC for toxic and non-toxic labels\n",
    "print(f'Average AUC for Toxic: {average_auc_toxic}')\n",
    "print(f'Average AUC for Non-Toxic: {average_auc_non_toxic}')\n",
    "\n",
    "# Store metrics_summary as a DataFrame if needed\n",
    "metrics_df = pd.DataFrame(metrics_summary).T"
   ]
  },
  {
   "cell_type": "code",
   "execution_count": 22,
   "metadata": {},
   "outputs": [
    {
     "data": {
      "image/png": "[encoded data removed]",
      "text/plain": [
       "<Figure size 1200x1000 with 4 Axes>"
      ]
     },
     "metadata": {},
     "output_type": "display_data"
    }
   ],
   "source": [
    "import matplotlib.pyplot as plt\n",
    "\n",
    "# Define the labels and corresponding metrics\n",
    "labels = ['toxic', 'severe_toxic', 'obscene', 'threat', 'insult', 'identity_hate', 'non_toxic']\n",
    "precision = [0.73390, 0.44041, 0.73420, 0.26829, 0.72039, 0.35345, 0.94979]\n",
    "recall = [0.53338, 0.26480, 0.49446, 0.14865, 0.50124, 0.13946, 0.97712]\n",
    "f1_score = [0.61778, 0.33074, 0.59094, 0.19130, 0.59116, 0.20000, 0.96326]\n",
    "auc = [0.93052, 0.96919, 0.94551, 0.95779, 0.95078, 0.94085, 0.92670]\n",
    "\n",
    "# Create subplots\n",
    "fig, axs = plt.subplots(2, 2, figsize=(12, 10))\n",
    "\n",
    "# Plot precision\n",
    "axs[0, 0].barh(labels, precision, color='skyblue')\n",
    "axs[0, 0].set_title('Precision')\n",
    "\n",
    "# Plot recall\n",
    "axs[0, 1].barh(labels, recall, color='salmon')\n",
    "axs[0, 1].set_title('Recall')\n",
    "\n",
    "# Plot F1-score\n",
    "axs[1, 0].barh(labels, f1_score, color='salmon')\n",
    "axs[1, 0].set_title('F1-Score')\n",
    "\n",
    "# Plot AUC\n",
    "axs[1, 1].barh(labels, auc, color='skyblue')\n",
    "axs[1, 1].set_title('AUC')\n",
    "\n",
    "# Adjust layout\n",
    "plt.tight_layout()\n",
    "\n",
    "# Show plot\n",
    "plt.show()"
   ]
  }
 ],
 "metadata": {
  "kernelspec": {
   "display_name": "base",
   "language": "python",
   "name": "python3"
  },
  "language_info": {
   "codemirror_mode": {
    "name": "ipython",
    "version": 3
   },
   "file_extension": ".py",
   "mimetype": "text/x-python",
   "name": "python",
   "nbconvert_exporter": "python",
   "pygments_lexer": "ipython3",
   "version": "3.11.7"
  }
 },
 "nbformat": 4,
 "nbformat_minor": 2
}
