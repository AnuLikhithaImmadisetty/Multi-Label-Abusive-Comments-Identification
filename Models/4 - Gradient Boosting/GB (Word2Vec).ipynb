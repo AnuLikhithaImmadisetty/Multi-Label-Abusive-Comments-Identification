{
 "cells": [
  {
   "cell_type": "code",
   "execution_count": 10,
   "metadata": {},
   "outputs": [],
   "source": [
    "import time  # Timing operations\n",
    "\n",
    "# Import necessary libraries for numerical operations and data processing\n",
    "import numpy as np  # Linear algebra operations, particularly with embeddings\n",
    "import pandas as pd  # Data processing, including reading and manipulating CSV files\n",
    "\n",
    "# Import text processing libraries\n",
    "import re  # Regular expressions for text cleaning\n",
    "import nltk  # Natural Language Toolkit for NLP tasks\n",
    "from nltk.corpus import stopwords  # Stopwords corpus for removing common stopwords\n",
    "from gensim.models import Word2Vec  # Gensim for Word2Vec embeddings\n",
    "\n",
    "# Import classifier\n",
    "from sklearn.neural_network import MLPClassifier  # Neural network-based classification"
   ]
  },
  {
   "cell_type": "code",
   "execution_count": 13,
   "metadata": {},
   "outputs": [
    {
     "name": "stdout",
     "output_type": "stream",
     "text": [
      "Comment: Explanation\n",
      "Why the edits made under my username Hardcore Metallica Fan were reverted? They weren't vandalisms, just closure on some GAs after I voted at New York Dolls FAC. And please don't remove the template from the talk page since I'm retired now.89.205.38.27\n",
      "Labels:\n",
      "toxic: 0\n",
      "severe_toxic: 0\n",
      "obscene: 0\n",
      "threat: 0\n",
      "insult: 0\n",
      "identity_hate: 0\n",
      "\n",
      "----------------------------------------\n",
      "Comment: D'aww! He matches this background colour I'm seemingly stuck with. Thanks.  (talk) 21:51, January 11, 2016 (UTC)\n",
      "Labels:\n",
      "toxic: 0\n",
      "severe_toxic: 0\n",
      "obscene: 0\n",
      "threat: 0\n",
      "insult: 0\n",
      "identity_hate: 0\n",
      "\n",
      "----------------------------------------\n",
      "Comment: Hey man, I'm really not trying to edit war. It's just that this guy is constantly removing relevant information and talking to me through edits instead of my talk page. He seems to care more about the formatting than the actual info.\n",
      "Labels:\n",
      "toxic: 0\n",
      "severe_toxic: 0\n",
      "obscene: 0\n",
      "threat: 0\n",
      "insult: 0\n",
      "identity_hate: 0\n",
      "\n",
      "----------------------------------------\n",
      "                 id  \\\n",
      "0  0000997932d777bf   \n",
      "1  000103f0d9cfb60f   \n",
      "2  000113f07ec002fd   \n",
      "\n",
      "                                                                                                                                                                                                                                                                comment_text  \\\n",
      "0  Explanation\\nWhy the edits made under my username Hardcore Metallica Fan were reverted? They weren't vandalisms, just closure on some GAs after I voted at New York Dolls FAC. And please don't remove the template from the talk page since I'm retired now.89.205.38.27   \n",
      "1                                                                                                                                                           D'aww! He matches this background colour I'm seemingly stuck with. Thanks.  (talk) 21:51, January 11, 2016 (UTC)   \n",
      "2                                  Hey man, I'm really not trying to edit war. It's just that this guy is constantly removing relevant information and talking to me through edits instead of my talk page. He seems to care more about the formatting than the actual info.   \n",
      "\n",
      "   toxic  severe_toxic  obscene  threat  insult  identity_hate  \n",
      "0      0             0        0       0       0              0  \n",
      "1      0             0        0       0       0              0  \n",
      "2      0             0        0       0       0              0  \n"
     ]
    }
   ],
   "source": [
    "# Load the training and test datasets\n",
    "import pandas as pd\n",
    "\n",
    "train = pd.read_csv(\"C:\\\\Users\\\\anuli\\\\OneDrive\\\\Desktop\\\\Multi Label Absuive Comments Identification\\\\Datasets\\\\train.csv\")  # Load the training data from CSV file\n",
    "test = pd.read_csv(\"C:\\\\Users\\\\anuli\\\\OneDrive\\\\Desktop\\\\Multi Label Absuive Comments Identification\\\\Datasets\\\\test.csv\")  # Load the test data from CSV file\n",
    "\n",
    "# Copy the 'id' column from the test set for later use in submission\n",
    "result = test[['id']].copy()\n",
    "\n",
    "# Function to format each row for display\n",
    "def format_row(row):\n",
    "    formatted_comment = row['comment_text']\n",
    "    labels = row[['toxic', 'severe_toxic', 'obscene', 'threat', 'insult', 'identity_hate']].to_dict()\n",
    "    formatted_labels = '\\n'.join(f\"{key}: {value}\" for key, value in labels.items())\n",
    "    return f\"Comment: {formatted_comment}\\nLabels:\\n{formatted_labels}\\n\"\n",
    "\n",
    "# Print the formatted rows\n",
    "for index, row in train.head(3).iterrows():\n",
    "    print(format_row(row))\n",
    "    print('-' * 40)  # Separator line for readability\n",
    "\n",
    "# Display the first 3 rows of the training set to get an initial impression of the data\n",
    "print(train.head(3))"
   ]
  },
  {
   "cell_type": "code",
   "execution_count": 14,
   "metadata": {},
   "outputs": [
    {
     "name": "stdout",
     "output_type": "stream",
     "text": [
      "toxic: 15294\n",
      "severe_toxic: 1595\n",
      "obscene: 8449\n",
      "threat: 478\n",
      "insult: 7877\n",
      "identity_hate: 1405\n"
     ]
    }
   ],
   "source": [
    "# Count the number of instances for each severity label where the value is greater than 0\n",
    "print('toxic: %d' % train[train['toxic'] > 0]['toxic'].count())\n",
    "print('severe_toxic: %d' % train[train['severe_toxic'] > 0]['severe_toxic'].count())\n",
    "print('obscene: %d' % train[train['obscene'] > 0]['obscene'].count())\n",
    "print('threat: %d' % train[train['threat'] > 0]['threat'].count())\n",
    "print('insult: %d' % train[train['insult'] > 0]['insult'].count())\n",
    "print('identity_hate: %d' % train[train['identity_hate'] > 0]['identity_hate'].count())"
   ]
  },
  {
   "cell_type": "code",
   "execution_count": 15,
   "metadata": {},
   "outputs": [
    {
     "name": "stdout",
     "output_type": "stream",
     "text": [
      "Severe toxic but NOT toxic?: 0\n",
      "Insult but NOT toxic?: 533\n",
      "Obscene but NOT toxic?: 523\n",
      "Threat but NOT insult?: 171\n"
     ]
    }
   ],
   "source": [
    "# Count the number of instances where 'severe_toxic' is greater than 0 but 'toxic' is 0\n",
    "print('Severe toxic but NOT toxic?: %d' % train[(train['severe_toxic'] > 0) & (train['toxic'] == 0)]['id'].count())\n",
    "\n",
    "# Count the number of instances where 'insult' is greater than 0 but 'toxic' is 0\n",
    "print('Insult but NOT toxic?: %d' % train[(train['insult'] > 0) & (train['toxic'] == 0)]['id'].count())\n",
    "\n",
    "# Count the number of instances where 'obscene' is greater than 0 but 'toxic' is 0\n",
    "print('Obscene but NOT toxic?: %d' % train[(train['obscene'] > 0) & (train['toxic'] == 0)]['id'].count())\n",
    "\n",
    "# Count the number of instances where 'threat' is greater than 0 but 'insult' is 0\n",
    "print('Threat but NOT insult?: %d' % train[(train['threat'] > 0) & (train['insult'] == 0)]['id'].count())"
   ]
  },
  {
   "cell_type": "code",
   "execution_count": 16,
   "metadata": {},
   "outputs": [
    {
     "name": "stdout",
     "output_type": "stream",
     "text": [
      "Average comment length: 394\n",
      "Median comment length: 205\n",
      "90th percentile comment length: 889\n"
     ]
    }
   ],
   "source": [
    "# Add a new column 'len' that contains the length of each comment\n",
    "train['len'] = train['comment_text'].str.len()\n",
    "\n",
    "# Calculate and print the average length of comments\n",
    "print('Average comment length: %d' % train['len'].mean())\n",
    "\n",
    "# Calculate and print the median length of comments\n",
    "print('Median comment length: %d' % train['len'].quantile(0.5))\n",
    "\n",
    "# Calculate and print the 90th percentile length of comments\n",
    "print('90th percentile comment length: %d' % train['len'].quantile(0.9))"
   ]
  },
  {
   "cell_type": "code",
   "execution_count": 18,
   "metadata": {},
   "outputs": [
    {
     "name": "stdout",
     "output_type": "stream",
     "text": [
      "Training set rows with null 'comment_text':\n",
      "Empty DataFrame\n",
      "Columns: [id, comment_text, toxic, severe_toxic, obscene, threat, insult, identity_hate, len]\n",
      "Index: []\n",
      "\n",
      "\n",
      "Test set rows with null 'comment_text':\n",
      "Empty DataFrame\n",
      "Columns: [id, comment_text]\n",
      "Index: []\n"
     ]
    }
   ],
   "source": [
    "# Print rows from the training set where 'comment_text' is null\n",
    "print(\"Training set rows with null 'comment_text':\")\n",
    "print(train[train['comment_text'].isnull()])\n",
    "print(\"\\n\")\n",
    "# Print rows from the test set where 'comment_text' is null\n",
    "print(\"Test set rows with null 'comment_text':\")\n",
    "print(test[test['comment_text'].isnull()])"
   ]
  },
  {
   "cell_type": "code",
   "execution_count": 19,
   "metadata": {},
   "outputs": [],
   "source": [
    "# Fill missing values in the 'comment_text' column of the test dataset with 'none'\n",
    "test['comment_text'].fillna(value='none', inplace=True)\n",
    "\n",
    "# Fill missing values in the 'comment_text' column of the training dataset with 'none'\n",
    "train['comment_text'].fillna(value='none', inplace=True)"
   ]
  },
  {
   "cell_type": "code",
   "execution_count": 22,
   "metadata": {},
   "outputs": [
    {
     "name": "stdout",
     "output_type": "stream",
     "text": [
      "0    [explanation, why, the, edits, made, under, my, username, hardcore, metallica, fan, were, reverted, they, weren, t, vandalisms, just, closure, on, some, gas, after, i, voted, at, new, york, dolls, fac, and, please, don, t, remove, the, template, from, the, talk, page, since, i, m, retired, now, 89, 205, 38, 27]\n",
      "1                                                                                                                                                                                                 [d, aww, he, matches, this, background, colour, i, m, seemingly, stuck, with, thanks, talk, 21, 51, january, 11, 2016, utc]\n",
      "2                                          [hey, man, i, m, really, not, trying, to, edit, war, it, s, just, that, this, guy, is, constantly, removing, relevant, information, and, talking, to, me, through, edits, instead, of, my, talk, page, he, seems, to, care, more, about, the, formatting, than, the, actual, info]\n",
      "Name: comment_text, dtype: object\n"
     ]
    }
   ],
   "source": [
    "def text_to_words(raw_text, remove_stopwords=False):\n",
    "    \"\"\"\n",
    "    Convert raw text into a list of words.\n",
    "    \n",
    "    Parameters:\n",
    "    raw_text (str): The raw text to process.\n",
    "    remove_stopwords (bool): Whether to remove common stopwords from the list of words.\n",
    "    \n",
    "    Returns:\n",
    "    list: A list of words from the text.\n",
    "    \"\"\"\n",
    "    # 1. Remove non-letters, but including numbers\n",
    "    letters_only = re.sub(r\"[^0-9a-zA-Z]\", \" \", raw_text)\n",
    "    \n",
    "    # 2. Convert to lower case, split into individual words\n",
    "    words = letters_only.lower().split()\n",
    "    \n",
    "    if remove_stopwords:\n",
    "        # Create a set of stopwords for faster lookup\n",
    "        stops = set(stopwords.words(\"english\"))\n",
    "        # Remove stop words from the list of words\n",
    "        meaningful_words = [w for w in words if w not in stops]\n",
    "        words = meaningful_words\n",
    "    \n",
    "    return words\n",
    "\n",
    "# Apply text_to_words function to 'comment_text' column in training and test datasets\n",
    "sentences_train = train['comment_text'].apply(lambda x: text_to_words(x, remove_stopwords=False))\n",
    "sentences_test = test['comment_text'].apply(lambda x: text_to_words(x, remove_stopwords=False))\n",
    "\n",
    "# Show first three processed arrays as samples\n",
    "print(sentences_train[:3])"
   ]
  },
  {
   "cell_type": "code",
   "execution_count": 25,
   "metadata": {},
   "outputs": [],
   "source": [
    "from gensim.models import Word2Vec\n",
    "from gensim.models import KeyedVectors"
   ]
  },
  {
   "cell_type": "code",
   "execution_count": 24,
   "metadata": {},
   "outputs": [],
   "source": [
    "# Set values for various parameters\n",
    "num_features = 300    # Word vector dimensionality\n",
    "min_word_count = 40   # Minimum word count\n",
    "num_workers = 4       # Number of threads to run in parallel\n",
    "context = 10          # Context window size\n",
    "downsampling = 1e-3   # Downsample setting for frequent words"
   ]
  },
  {
   "cell_type": "code",
   "execution_count": 26,
   "metadata": {},
   "outputs": [],
   "source": [
    "# Define and train the Word2Vec model with specified parameters\n",
    "model = Word2Vec(sentences=sentences_train,\n",
    "                  vector_size=num_features,\n",
    "                  window=context,\n",
    "                  min_count=min_word_count,\n",
    "                  sample=downsampling,\n",
    "                  workers=num_workers)\n",
    "\n",
    "# Save the model's word vectors and discard the full model to save memory\n",
    "word_vectors = model.wv\n",
    "word_vectors.save(\"word_vectors.kv\")\n",
    "\n",
    "# Optionally, load these vectors without the full model\n",
    "word_vectors = KeyedVectors.load(\"word_vectors.kv\", mmap='r')\n",
    "\n",
    "# Now you can use `word_vectors` for querying, which is memory efficient"
   ]
  },
  {
   "cell_type": "code",
   "execution_count": 27,
   "metadata": {},
   "outputs": [],
   "source": [
    "def makeFeatureVec(words, model, num_features):\n",
    "    # Initialize a zero vector to hold the feature values\n",
    "    featureVec = np.zeros((num_features,), dtype=\"float32\")\n",
    "    nwords = 0\n",
    "    # Convert model vocabulary to a set for faster word lookup\n",
    "    index2word_set = set(model.index_to_key)  # Updated to use index_to_key\n",
    "    # Sum vectors for words that are present in the model's vocabulary\n",
    "    for word in words:\n",
    "        if word in index2word_set:\n",
    "            nwords += 1\n",
    "            featureVec = np.add(featureVec, model[word])  # Updated to use model.wv[word]\n",
    "    # Compute the average vector; avoid division by zero\n",
    "    if nwords == 0:\n",
    "        nwords = 1  # Avoid division by zero\n",
    "    featureVec = np.divide(featureVec, nwords)\n",
    "    return featureVec\n",
    "\n",
    "def getAvgFeatureVecs(reviews, model, num_features):\n",
    "    # Initialize a 2D array to store feature vectors for all reviews\n",
    "    reviewFeatureVecs = np.zeros((len(reviews), num_features), dtype=\"float32\")\n",
    "    # Compute the average feature vector for each review\n",
    "    for counter, review in enumerate(reviews):\n",
    "        reviewFeatureVecs[counter] = makeFeatureVec(review, model, num_features)\n",
    "    return reviewFeatureVecs "
   ]
  },
  {
   "cell_type": "code",
   "execution_count": 28,
   "metadata": {},
   "outputs": [],
   "source": [
    "# Load pre-trained word vectors\n",
    "word_vectors = KeyedVectors.load(\"word_vectors.kv\", mmap='r')\n",
    "\n",
    "# Convert training and test sentences to feature vectors\n",
    "f_matrix_train = getAvgFeatureVecs(sentences_train, word_vectors, num_features)\n",
    "f_matrix_test = getAvgFeatureVecs(sentences_test, word_vectors, num_features)\n",
    "\n",
    "# Prepare target labels for training 6 different models\n",
    "y = [train['toxic'], train['severe_toxic'], train['obscene'], train['threat'], train['insult'], train['identity_hate']]"
   ]
  },
  {
   "cell_type": "code",
   "execution_count": 29,
   "metadata": {},
   "outputs": [
    {
     "name": "stdout",
     "output_type": "stream",
     "text": [
      "[MLPClassifier(hidden_layer_sizes=(30, 30, 30), random_state=1), MLPClassifier(hidden_layer_sizes=(30, 30, 30), random_state=1), MLPClassifier(hidden_layer_sizes=(30, 30, 30), random_state=1), MLPClassifier(hidden_layer_sizes=(30, 30, 30), random_state=1), MLPClassifier(hidden_layer_sizes=(30, 30, 30), random_state=1), MLPClassifier(hidden_layer_sizes=(30, 30, 30), random_state=1)]\n"
     ]
    }
   ],
   "source": [
    "# Create a list to store 6 MLP models\n",
    "model = []\n",
    "\n",
    "# Initialize and append 6 MLPClassifier models to the list\n",
    "for i in range(0, 6):\n",
    "    # Create an MLP model with three hidden layers, each with 30 neurons\n",
    "    m = MLPClassifier(solver='adam', hidden_layer_sizes=(30,30,30), random_state=1)\n",
    "    model.append(m)\n",
    "\n",
    "# Print the list of models\n",
    "print(model)"
   ]
  },
  {
   "cell_type": "code",
   "execution_count": 30,
   "metadata": {},
   "outputs": [
    {
     "name": "stdout",
     "output_type": "stream",
     "text": [
      "Pos 10000/159571 duration 0\n",
      "Pos 20000/159571 duration 0\n",
      "Pos 30000/159571 duration 1\n",
      "Pos 40000/159571 duration 1\n",
      "Pos 50000/159571 duration 2\n",
      "Pos 60000/159571 duration 2\n",
      "Pos 70000/159571 duration 2\n",
      "Pos 80000/159571 duration 3\n",
      "Pos 90000/159571 duration 3\n",
      "Pos 100000/159571 duration 4\n",
      "Pos 110000/159571 duration 4\n",
      "Pos 120000/159571 duration 4\n",
      "Pos 130000/159571 duration 5\n",
      "Pos 140000/159571 duration 5\n",
      "Pos 150000/159571 duration 6\n",
      "Pos 159571/159571 duration 6\n"
     ]
    }
   ],
   "source": [
    "batch_size = 10000  # Number of samples to process in each batch\n",
    "total_rows = f_matrix_train.shape[0]  # Total number of training samples\n",
    "duration = 0  # Time elapsed during training\n",
    "start_train = time.time()  # Record the start time of training\n",
    "pos = 0  # Initial position in the dataset\n",
    "classes = [0, 1]  # Binary classes for classification\n",
    "\n",
    "# Perform training using a partial fit approach\n",
    "while duration < 2500 and pos < total_rows:\n",
    "    for i in range(6):\n",
    "        # Adjust batch size if the remaining samples are less than the batch size\n",
    "        if pos + batch_size > total_rows:\n",
    "            batch_size = total_rows - pos\n",
    "        # Select a batch of training data and corresponding labels\n",
    "        X_p = f_matrix_train[pos:pos + batch_size]\n",
    "        y_p = y[i][pos:pos + batch_size]\n",
    "        # Update the model with the current batch\n",
    "        model[i].partial_fit(X_p, y_p, classes)\n",
    "    pos += batch_size  # Move to the next batch\n",
    "    duration = time.time() - start_train  # Update elapsed time\n",
    "    print(\"Pos %d/%d duration %d\" % (pos, total_rows, duration))  # Print progress"
   ]
  },
  {
   "cell_type": "code",
   "execution_count": 31,
   "metadata": {},
   "outputs": [],
   "source": [
    "# Predict probabilities for each class using the trained models\n",
    "result['toxic'] = model[0].predict_proba(f_matrix_test)[:, 1]         # Probability of 'toxic' class\n",
    "result['severe_toxic'] = model[1].predict_proba(f_matrix_test)[:, 1] # Probability of 'severe_toxic' class\n",
    "result['obscene'] = model[2].predict_proba(f_matrix_test)[:, 1]      # Probability of 'obscene' class\n",
    "result['threat'] = model[3].predict_proba(f_matrix_test)[:, 1]       # Probability of 'threat' class\n",
    "result['insult'] = model[4].predict_proba(f_matrix_test)[:, 1]       # Probability of 'insult' class\n",
    "result['identity_hate'] = model[5].predict_proba(f_matrix_test)[:, 1] # Probability of 'identity_hate' class\n"
   ]
  },
  {
   "cell_type": "code",
   "execution_count": 32,
   "metadata": {},
   "outputs": [],
   "source": [
    "# Save the results to a CSV file\n",
    "result.to_csv('submission.csv', encoding='utf-8', index=False)"
   ]
  },
  {
   "cell_type": "code",
   "execution_count": 36,
   "metadata": {},
   "outputs": [
    {
     "name": "stdout",
     "output_type": "stream",
     "text": [
      "Label = toxic\n",
      "ROC AUC: 0.9409756402269275\n",
      "Precision: 0.8104166666666667\n",
      "Recall: 0.5091623036649214\n",
      "F1 Score: 0.6254019292604501\n",
      "Accuracy: 0.9415948613504622\n",
      "Classification Report:\n",
      "{'0': {'precision': 0.9499916652775463, 'recall': 0.9873869503447797, 'f1-score': 0.9683284058857512, 'support': 28859}, '1': {'precision': 0.8104166666666667, 'recall': 0.5091623036649214, 'f1-score': 0.6254019292604501, 'support': 3056}, 'accuracy': 0.9415948613504622, 'macro avg': {'precision': 0.8802041659721065, 'recall': 0.7482746270048506, 'f1-score': 0.7968651675731007, 'support': 31915}, 'weighted avg': {'precision': 0.9366267523602708, 'recall': 0.9415948613504622, 'f1-score': 0.935491704880991, 'support': 31915}}\n",
      "\n",
      "Label = severe_toxic\n",
      "ROC AUC: 0.9626362472309798\n",
      "Precision: 0.5259259259259259\n",
      "Recall: 0.22118380062305296\n",
      "F1 Score: 0.3114035087719298\n",
      "Accuracy: 0.9901613661287796\n",
      "Classification Report:\n",
      "{'0': {'precision': 0.9921334172435494, 'recall': 0.997974298917516, 'f1-score': 0.9950452867106384, 'support': 31594}, '1': {'precision': 0.5259259259259259, 'recall': 0.22118380062305296, 'f1-score': 0.3114035087719298, 'support': 321}, 'accuracy': 0.9901613661287796, 'macro avg': {'precision': 0.7590296715847377, 'recall': 0.6095790497702844, 'f1-score': 0.6532243977412842, 'support': 31915}, 'weighted avg': {'precision': 0.9874443179262078, 'recall': 0.9901613661287796, 'f1-score': 0.9881692406282845, 'support': 31915}}\n",
      "\n",
      "Label = obscene\n",
      "ROC AUC: 0.9516135578166933\n",
      "Precision: 0.8353909465020576\n",
      "Recall: 0.47346938775510206\n",
      "F1 Score: 0.6043915147004093\n",
      "Accuracy: 0.966692777690741\n",
      "Classification Report:\n",
      "{'0': {'precision': 0.970817309246033, 'recall': 0.9947019867549669, 'f1-score': 0.9826145266015734, 'support': 30200}, '1': {'precision': 0.8353909465020576, 'recall': 0.47346938775510206, 'f1-score': 0.6043915147004093, 'support': 1715}, 'accuracy': 0.966692777690741, 'macro avg': {'precision': 0.9031041278740453, 'recall': 0.7340856872550345, 'f1-score': 0.7935030206509914, 'support': 31915}, 'weighted avg': {'precision': 0.963539972191171, 'recall': 0.966692777690741, 'f1-score': 0.9622901504332985, 'support': 31915}}\n",
      "\n",
      "Label = threat\n",
      "ROC AUC: 0.947541288344027\n",
      "Precision: 0.1935483870967742\n",
      "Recall: 0.08108108108108109\n",
      "F1 Score: 0.11428571428571428\n",
      "Accuracy: 0.997086009713301\n",
      "Classification Report:\n",
      "{'0': {'precision': 0.9978672688495798, 'recall': 0.999214848779875, 'f1-score': 0.9985406041584934, 'support': 31841}, '1': {'precision': 0.1935483870967742, 'recall': 0.08108108108108109, 'f1-score': 0.11428571428571428, 'support': 74}, 'accuracy': 0.997086009713301, 'macro avg': {'precision': 0.595707827973177, 'recall': 0.540147964930478, 'f1-score': 0.5564131592221039, 'support': 31915}, 'weighted avg': {'precision': 0.9960023276855596, 'recall': 0.997086009713301, 'f1-score': 0.9964903186547934, 'support': 31915}}\n",
      "\n",
      "Label = insult\n",
      "ROC AUC: 0.9540715445406962\n",
      "Precision: 0.7843986998916577\n",
      "Recall: 0.4485749690210657\n",
      "F1 Score: 0.570752857705952\n",
      "Accuracy: 0.9658781137396208\n",
      "Classification Report:\n",
      "{'0': {'precision': 0.9712829117191534, 'recall': 0.9934325599815188, 'f1-score': 0.982232881405707, 'support': 30301}, '1': {'precision': 0.7843986998916577, 'recall': 0.4485749690210657, 'f1-score': 0.570752857705952, 'support': 1614}, 'accuracy': 0.9658781137396208, 'macro avg': {'precision': 0.8778408058054055, 'recall': 0.7210037645012922, 'f1-score': 0.7764928695558295, 'support': 31915}, 'weighted avg': {'precision': 0.9618318348622028, 'recall': 0.9658781137396208, 'f1-score': 0.9614235830114909, 'support': 31915}}\n",
      "\n",
      "Label = identity_hate\n",
      "ROC AUC: 0.9413632376830432\n",
      "Precision: 0.625\n",
      "Recall: 0.08503401360544217\n",
      "F1 Score: 0.1497005988023952\n",
      "Accuracy: 0.9911013629954567\n",
      "Classification Report:\n",
      "{'0': {'precision': 0.9915607843137255, 'recall': 0.9995256317004523, 'f1-score': 0.9955272773088069, 'support': 31621}, '1': {'precision': 0.625, 'recall': 0.08503401360544217, 'f1-score': 0.1497005988023952, 'support': 294}, 'accuracy': 0.9911013629954567, 'macro avg': {'precision': 0.8082803921568628, 'recall': 0.5422798226529473, 'f1-score': 0.572613938055601, 'support': 31915}, 'weighted avg': {'precision': 0.9881840376244498, 'recall': 0.9911013629954567, 'f1-score': 0.987735547918837, 'support': 31915}}\n",
      "\n",
      "Label = non_toxic\n",
      "ROC AUC: 0.9377908087417691\n",
      "Precision: 0.9463682291143899\n",
      "Recall: 0.9865717972864567\n",
      "F1 Score: 0.966051912568306\n",
      "Accuracy: 0.9377095409681968\n",
      "Classification Report:\n",
      "{'0': {'precision': 0.8099703849950641, 'recall': 0.5058569667077681, 'f1-score': 0.6227703984819734, 'support': 3244}, '1': {'precision': 0.9463682291143899, 'recall': 0.9865717972864567, 'f1-score': 0.966051912568306, 'support': 28671}, 'accuracy': 0.9377095409681968, 'macro avg': {'precision': 0.878169307054727, 'recall': 0.7462143819971124, 'f1-score': 0.7944111555251396, 'support': 31915}, 'weighted avg': {'precision': 0.9325040709967933, 'recall': 0.9377095409681968, 'f1-score': 0.9311590649513214, 'support': 31915}}\n",
      "\n",
      "Average AUC for Toxic: 0.9497002526403945\n",
      "Average AUC for Non-Toxic: 0.9377908087417691\n"
     ]
    }
   ],
   "source": [
    "import pandas as pd\n",
    "from sklearn.ensemble import GradientBoostingClassifier\n",
    "from sklearn.metrics import roc_auc_score, classification_report, precision_score, recall_score, f1_score, accuracy_score\n",
    "from sklearn.model_selection import train_test_split\n",
    "\n",
    "# Load your dataset\n",
    "train_balanced = pd.read_csv('C:\\\\Users\\\\anuli\\\\OneDrive\\\\Desktop\\\\Multi Label Absuive Comments Identification\\\\Datasets\\\\train.csv')  # Adjust path as necessary\n",
    "\n",
    "# Define target columns and add 'non_toxic'\n",
    "target_columns = ['toxic', 'severe_toxic', 'obscene', 'threat', 'insult', 'identity_hate']\n",
    "train_balanced['non_toxic'] = 1 - train_balanced[target_columns].max(axis=1)\n",
    "\n",
    "# Define feature matrix and labels\n",
    "x_train = f_matrix_train  # Ensure this is your feature matrix from Word2Vec or other preprocessing\n",
    "y_train = train_balanced[target_columns + ['non_toxic']].values\n",
    "\n",
    "# Split the dataset into training and validation sets\n",
    "x_train, x_val, y_train, y_val = train_test_split(x_train, y_train, test_size=0.2, random_state=42)\n",
    "\n",
    "# Initialize models and metrics\n",
    "models = {}\n",
    "metrics_summary = {}\n",
    "average_auc_toxic = 0\n",
    "average_auc_non_toxic = 0\n",
    "\n",
    "# Train a model for each label\n",
    "for idx, label in enumerate(target_columns + ['non_toxic']):\n",
    "    # Initialize and train the Gradient Boosting model\n",
    "    models[label] = GradientBoostingClassifier(random_state=42)\n",
    "    models[label].fit(x_train, y_train[:, idx])\n",
    "    \n",
    "    # Make predictions and calculate probabilities\n",
    "    predictions = models[label].predict(x_val)\n",
    "    prediction_probs = models[label].predict_proba(x_val)[:, 1]\n",
    "    \n",
    "    # Calculate metrics\n",
    "    roc_auc = roc_auc_score(y_val[:, idx], prediction_probs)\n",
    "    precision = precision_score(y_val[:, idx], predictions)\n",
    "    recall = recall_score(y_val[:, idx], predictions)\n",
    "    f1 = f1_score(y_val[:, idx], predictions)\n",
    "    accuracy = accuracy_score(y_val[:, idx], predictions)\n",
    "    report = classification_report(y_val[:, idx], predictions, output_dict=True)\n",
    "    \n",
    "    # Store metrics in the dictionary\n",
    "    metrics_summary[label] = {\n",
    "        'ROC AUC': roc_auc,\n",
    "        'Precision': precision,\n",
    "        'Recall': recall,\n",
    "        'F1 Score': f1,\n",
    "        'Accuracy': accuracy,\n",
    "        'Classification Report': report\n",
    "    }\n",
    "    \n",
    "    # Print metrics for each label\n",
    "    print(f'Label = {label}')\n",
    "    print(f'ROC AUC: {roc_auc}')\n",
    "    print(f'Precision: {precision}')\n",
    "    print(f'Recall: {recall}')\n",
    "    print(f'F1 Score: {f1}')\n",
    "    print(f'Accuracy: {accuracy}')\n",
    "    print(f'Classification Report:\\n{report}\\n')\n",
    "    \n",
    "    # Accumulate AUC for averaging\n",
    "    if label != 'non_toxic':\n",
    "        average_auc_toxic += roc_auc\n",
    "    else:\n",
    "        average_auc_non_toxic = roc_auc\n",
    "\n",
    "# Calculate average AUC\n",
    "average_auc_toxic /= len(target_columns)\n",
    "average_auc_non_toxic /= 1  # Only one non-toxic class\n",
    "\n",
    "# Print average AUC\n",
    "print(f'Average AUC for Toxic: {average_auc_toxic}')\n",
    "print(f'Average AUC for Non-Toxic: {average_auc_non_toxic}')\n",
    "\n",
    "# Store metrics_summary as a DataFrame if needed\n",
    "metrics_df = pd.DataFrame(metrics_summary).T"
   ]
  },
  {
   "cell_type": "code",
   "execution_count": 1,
   "metadata": {},
   "outputs": [
    {
     "data": {
      "image/png": "[encoded data removed]",
      "text/plain": [
       "<Figure size 1200x1000 with 4 Axes>"
      ]
     },
     "metadata": {},
     "output_type": "display_data"
    }
   ],
   "source": [
    "import matplotlib.pyplot as plt\n",
    "\n",
    "# Define the labels and corresponding metrics based on your new scores\n",
    "labels = ['toxic', 'severe_toxic', 'obscene', 'threat', 'insult', 'identity_hate', 'non_toxic']\n",
    "precision = [0.8104, 0.5259, 0.8354, 0.1935, 0.7844, 0.625, 0.9464]\n",
    "recall = [0.5092, 0.2212, 0.4735, 0.0811, 0.4486, 0.0850, 0.9866]\n",
    "f1_score = [0.6254, 0.3114, 0.6044, 0.1143, 0.5708, 0.1497, 0.9661]\n",
    "auc = [0.9410, 0.9626, 0.9516, 0.9475, 0.9541, 0.9414, 0.9378]\n",
    "\n",
    "# Create subplots\n",
    "fig, axs = plt.subplots(2, 2, figsize=(12, 10))\n",
    "\n",
    "# Plot precision\n",
    "axs[0, 0].barh(labels, precision, color='skyblue')\n",
    "axs[0, 0].set_title('Precision')\n",
    "axs[0, 0].set_xlim(0, 1)  # Set x-axis limit for better visualization\n",
    "\n",
    "# Plot recall\n",
    "axs[0, 1].barh(labels, recall, color='salmon')\n",
    "axs[0, 1].set_title('Recall')\n",
    "axs[0, 1].set_xlim(0, 1)  # Set x-axis limit for better visualization\n",
    "\n",
    "# Plot F1-score\n",
    "axs[1, 0].barh(labels, f1_score, color='salmon')\n",
    "axs[1, 0].set_title('F1-Score')\n",
    "axs[1, 0].set_xlim(0, 1)  # Set x-axis limit for better visualization\n",
    "\n",
    "# Plot AUC\n",
    "axs[1, 1].barh(labels, auc, color='skyblue')\n",
    "axs[1, 1].set_title('AUC')\n",
    "axs[1, 1].set_xlim(0, 1)  # Set x-axis limit for better visualization\n",
    "\n",
    "# Adjust layout\n",
    "plt.tight_layout()\n",
    "\n",
    "# Show plot\n",
    "plt.show()"
   ]
  }
 ],
 "metadata": {
  "kernelspec": {
   "display_name": "base",
   "language": "python",
   "name": "python3"
  },
  "language_info": {
   "codemirror_mode": {
    "name": "ipython",
    "version": 3
   },
   "file_extension": ".py",
   "mimetype": "text/x-python",
   "name": "python",
   "nbconvert_exporter": "python",
   "pygments_lexer": "ipython3",
   "version": "3.11.7"
  }
 },
 "nbformat": 4,
 "nbformat_minor": 2
}
